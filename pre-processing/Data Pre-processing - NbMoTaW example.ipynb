{
 "cells": [
  {
   "cell_type": "code",
   "execution_count": null,
   "metadata": {
    "scrolled": true
   },
   "outputs": [],
   "source": [
    "import json\n",
    "import numpy as np\n",
    "import pymatgen as pmg\n",
    "import itertools\n",
    "import pickle\n",
    "import matplotlib.pyplot as plt\n",
    "import glob"
   ]
  },
  {
   "cell_type": "code",
   "execution_count": null,
   "metadata": {},
   "outputs": [],
   "source": [
    "elements = 'NbMoTaW'"
   ]
  },
  {
   "cell_type": "code",
   "execution_count": null,
   "metadata": {},
   "outputs": [],
   "source": [
    "raw_data_training = []\n",
    "raw_data_testing = []\n",
    "\n",
    "files =  glob.glob('./raw/NbMoTaW/*.json')\n",
    "\n",
    "test_files =  glob.glob('./raw/NbMoTaW/*Test.json')\n",
    "train_files = list(set(files)-set(test_files))\n",
    "\n",
    "for file in train_files:\n",
    "    with open(file) as json_data:\n",
    "        raw_data_training += [json.load(json_data)]\n",
    "\n",
    "for file in test_files:\n",
    "    with open(file) as json_data:\n",
    "        raw_data_testing += [json.load(json_data)]"
   ]
  },
  {
   "cell_type": "code",
   "execution_count": null,
   "metadata": {},
   "outputs": [],
   "source": [
    "train_files"
   ]
  },
  {
   "cell_type": "code",
   "execution_count": null,
   "metadata": {},
   "outputs": [],
   "source": [
    "test_files"
   ]
  },
  {
   "cell_type": "code",
   "execution_count": null,
   "metadata": {},
   "outputs": [],
   "source": [
    "#for generating test set\n",
    "\n",
    "with open('raw/'+element+'/test.json') as json_data:\n",
    "    raw_data_testing = json.load(json_data)\n"
   ]
  },
  {
   "cell_type": "code",
   "execution_count": null,
   "metadata": {},
   "outputs": [],
   "source": [
    "#number of snapshots in each json file\n",
    "\n",
    "len(raw_data_training)"
   ]
  },
  {
   "cell_type": "code",
   "execution_count": null,
   "metadata": {},
   "outputs": [],
   "source": [
    "#for generating vacancy test set\n",
    "\n",
    "#number of snapshots in each json file\n",
    "\n",
    "len(raw_data_testing)"
   ]
  },
  {
   "cell_type": "code",
   "execution_count": null,
   "metadata": {
    "scrolled": true
   },
   "outputs": [],
   "source": [
    "#number of particles in each json file\n",
    "\n",
    "(sum([len(i) for i in raw_data_training]))"
   ]
  },
  {
   "cell_type": "code",
   "execution_count": null,
   "metadata": {
    "scrolled": true
   },
   "outputs": [],
   "source": [
    "#number of particles in each json file\n",
    "\n",
    "(set([len(i) for i in raw_data_training]))"
   ]
  },
  {
   "cell_type": "code",
   "execution_count": null,
   "metadata": {},
   "outputs": [],
   "source": [
    "#for generating vacancy test set\n",
    "\n",
    "#number of particles in each json file\n",
    "\n",
    "(sum([len(i) for i in raw_data_testing]))"
   ]
  },
  {
   "cell_type": "code",
   "execution_count": null,
   "metadata": {},
   "outputs": [],
   "source": [
    "data_all = raw_data_training"
   ]
  },
  {
   "cell_type": "code",
   "execution_count": null,
   "metadata": {},
   "outputs": [],
   "source": [
    "#this is to generate my own split\n",
    "\n",
    "import random\n",
    "\n",
    "#generate test set indices\n",
    "\n",
    "data_all_tosplit = raw_data_training\n",
    "#data_all_tosplit = [data_npt,data_nvt,data_elastic,data_gb,data_surface,data_vacancy]\n",
    "\n",
    "trainset_indices = [random.sample(range(i), i-(i//20)) for i in [len(j) for j in data_all_tosplit]]\n",
    "data_mysplit_train = [data_all_tosplit[i][j] for i in range(len(data_all_tosplit)) for j in range(len(data_all_tosplit[i])) if j in trainset_indices[i]]\n",
    "\n",
    "#the following is done to reduce training set size\n",
    "temp_data = [ [j for ind_j,j in enumerate(i) if ind_j in trainset_indices[ind_i]] for ind_i,i in enumerate(data_all_tosplit)]\n",
    "trainset_subset_indices = [random.sample(range(y), y//20) for y in [len(z) for z in temp_data]]\n",
    "\n",
    "\n",
    "data_mysplit_train_subset = [temp_data[i][j] for i in range(len(temp_data)) for j in range(len(temp_data[i])) if j in trainset_subset_indices[i]]\n",
    "\n",
    "data_mysplit_test = [data_all_tosplit[i][j] for i in range(len(data_all_tosplit)) for j in range(len(data_all_tosplit[i])) if j not in trainset_indices[i]]\n"
   ]
  },
  {
   "cell_type": "code",
   "execution_count": null,
   "metadata": {},
   "outputs": [],
   "source": [
    "len(data_mysplit_train),len(data_mysplit_train_subset),len(data_mysplit_test)"
   ]
  },
  {
   "cell_type": "code",
   "execution_count": null,
   "metadata": {},
   "outputs": [],
   "source": [
    "data_train_structure_energy = [(pmg.Structure.from_dict(i['structure']),i['outputs']['energy']/len(i['structure']['sites']),i['outputs']['forces']) \n",
    "                      for i in raw_data_training]"
   ]
  },
  {
   "cell_type": "code",
   "execution_count": null,
   "metadata": {},
   "outputs": [],
   "source": [
    "#for generating test set\n",
    "\n",
    "data_test_structure_energy = [(pmg.Structure.from_dict(i['structure']),i['outputs']['energy']/len(i['structure']['sites']),i['outputs']['forces']) \n",
    "                      for i in raw_data_testing]"
   ]
  },
  {
   "cell_type": "code",
   "execution_count": null,
   "metadata": {},
   "outputs": [],
   "source": [
    "#this is to generate my own split\n",
    "\n",
    "data_mysplit_train_structure_energy = [(pmg.Structure.from_dict(i['structure']),i['outputs']['energy']/i['num_atoms'],i['outputs']['forces']) \n",
    "                      for i in data_mysplit_train]\n",
    "\n",
    "data_mysplit_test_structure_energy = [(pmg.Structure.from_dict(i['structure']),i['outputs']['energy']/i['num_atoms'],i['outputs']['forces'])\n",
    "                      for i in data_mysplit_test]\n"
   ]
  },
  {
   "cell_type": "code",
   "execution_count": null,
   "metadata": {
    "scrolled": false
   },
   "outputs": [],
   "source": [
    "set_num_atoms = set([len(i['structure']['sites']) for i in raw_data_training])\n",
    "numatoms_list_train = sorted([i for i in set_num_atoms])\n",
    "numatoms_list_train"
   ]
  },
  {
   "cell_type": "code",
   "execution_count": null,
   "metadata": {},
   "outputs": [],
   "source": [
    "with open('processed/'+elements+'/train/num_atoms_categories.pickle', 'wb') as handle:\n",
    "    pickle.dump(numatoms_list_train, handle, protocol=pickle.HIGHEST_PROTOCOL)"
   ]
  },
  {
   "cell_type": "code",
   "execution_count": null,
   "metadata": {
    "scrolled": false
   },
   "outputs": [],
   "source": [
    "#for generating test set\n",
    "\n",
    "set_num_atoms_test = set([len(i['structure']['sites']) for i in raw_data_testing])\n",
    "\n",
    "\n",
    "set_num_atoms = set_num_atoms_test\n",
    "numatoms_list_test = sorted([i for i in set_num_atoms])\n",
    "numatoms_list_test"
   ]
  },
  {
   "cell_type": "code",
   "execution_count": null,
   "metadata": {},
   "outputs": [],
   "source": [
    "#for saving test categorized num\n",
    "\n",
    "with open('processed/'+element+'/test/num_atoms_categories.pickle', 'wb') as handle:\n",
    "    pickle.dump(numatoms_list_test, handle, protocol=pickle.HIGHEST_PROTOCOL)"
   ]
  },
  {
   "cell_type": "code",
   "execution_count": null,
   "metadata": {
    "scrolled": false
   },
   "outputs": [],
   "source": [
    "#this is to generate my own split\n",
    "\n",
    "set_num_atoms_mysplit_train = set([len(i['structure']['sites']) for i in data_mysplit_train])\n",
    "set_num_atoms_mysplit_test = set([len(i['structure']['sites']) for i in data_mysplit_test])\n",
    "\n",
    "set_num_atoms_mysplit_train = set_num_atoms_mysplit_train\n",
    "numatoms_list_mysplit_train = sorted([i for i in set_num_atoms_mysplit_train])\n",
    "numatoms_list_mysplit_train"
   ]
  },
  {
   "cell_type": "code",
   "execution_count": null,
   "metadata": {
    "scrolled": false
   },
   "outputs": [],
   "source": [
    "#this is to generate my own split\n",
    "\n",
    "set_num_atoms_mysplit_test = set([len(i['structure']['sites']) for i in data_mysplit_test])\n",
    "\n",
    "set_num_atoms_mysplit_test = set_num_atoms_mysplit_test\n",
    "numatoms_list_mysplit_test = sorted([i for i in set_num_atoms_mysplit_test])\n",
    "numatoms_list_mysplit_test"
   ]
  },
  {
   "cell_type": "code",
   "execution_count": null,
   "metadata": {},
   "outputs": [],
   "source": [
    "with open('processed/'+elements+'/train/num_atoms_categories.pickle', 'wb') as handle:\n",
    "    pickle.dump(numatoms_list_mysplit_train, handle, protocol=pickle.HIGHEST_PROTOCOL)"
   ]
  },
  {
   "cell_type": "code",
   "execution_count": null,
   "metadata": {},
   "outputs": [],
   "source": [
    "with open('processed/'+elements+'/test2/num_atoms_categories.pickle', 'wb') as handle:\n",
    "    pickle.dump(numatoms_list_mysplit_test, handle, protocol=pickle.HIGHEST_PROTOCOL)"
   ]
  },
  {
   "cell_type": "code",
   "execution_count": null,
   "metadata": {},
   "outputs": [],
   "source": [
    "data_train_struct_categorized = [[struct_energy[0] for struct_energy in data_train_structure_energy \n",
    "                                if len(struct_energy[0])==i] for i in numatoms_list_train]\n",
    "\n",
    "data_train_struct_categorized_energy = [[struct_energy[1] for struct_energy in data_train_structure_energy \n",
    "                                        if len(struct_energy[0])==i] for i in numatoms_list_train]\n",
    "\n",
    "data_train_struct_categorized_forces = [[struct_energy[2] for struct_energy in data_train_structure_energy \n",
    "                                        if len(struct_energy[0])==i] for i in numatoms_list_train]"
   ]
  },
  {
   "cell_type": "code",
   "execution_count": null,
   "metadata": {},
   "outputs": [],
   "source": [
    "[len(i) for i in data_train_struct_categorized]"
   ]
  },
  {
   "cell_type": "code",
   "execution_count": null,
   "metadata": {},
   "outputs": [],
   "source": [
    "#for generating test set\n",
    "\n",
    "data_test_struct_categorized = [[struct_energy[0] for struct_energy in data_test_structure_energy \n",
    "                                if len(struct_energy[0])==i] for i in numatoms_list_test]\n",
    "\n",
    "data_test_struct_categorized_energy = [[struct_energy[1] for struct_energy in data_test_structure_energy \n",
    "                                        if len(struct_energy[0])==i] for i in numatoms_list_test]\n",
    "\n",
    "data_test_struct_categorized_forces = [[struct_energy[2] for struct_energy in data_test_structure_energy \n",
    "                                        if len(struct_energy[0])==i] for i in numatoms_list_test]"
   ]
  },
  {
   "cell_type": "code",
   "execution_count": null,
   "metadata": {},
   "outputs": [],
   "source": [
    "[len(i) for i in data_test_struct_categorized]"
   ]
  },
  {
   "cell_type": "code",
   "execution_count": null,
   "metadata": {},
   "outputs": [],
   "source": [
    "#this is to generate my own split\n",
    "\n",
    "data_mysplit_train_struct_categorized = [[struct_energy[0] for struct_energy in data_mysplit_train_structure_energy \n",
    "                                if len(struct_energy[0])==i] for i in numatoms_list_mysplit_train]\n",
    "\n",
    "data_mysplit_train_struct_categorized_energy = [[struct_energy[1] for struct_energy in data_mysplit_train_structure_energy \n",
    "                                        if len(struct_energy[0])==i] for i in numatoms_list_mysplit_train]\n",
    "\n",
    "data_mysplit_train_struct_categorized_forces = [[struct_energy[2] for struct_energy in data_mysplit_train_structure_energy \n",
    "                                        if len(struct_energy[0])==i] for i in numatoms_list_mysplit_train]"
   ]
  },
  {
   "cell_type": "code",
   "execution_count": null,
   "metadata": {
    "scrolled": true
   },
   "outputs": [],
   "source": [
    "[len(i) for i in data_mysplit_train_struct_categorized]"
   ]
  },
  {
   "cell_type": "code",
   "execution_count": null,
   "metadata": {},
   "outputs": [],
   "source": [
    "#this is to generate my own split\n",
    "\n",
    "data_mysplit_test_struct_categorized = [[struct_energy[0] for struct_energy in data_mysplit_test_structure_energy \n",
    "                                if len(struct_energy[0])==i] for i in numatoms_list_mysplit_test]\n",
    "\n",
    "data_mysplit_test_struct_categorized_energy = [[struct_energy[1] for struct_energy in data_mysplit_test_structure_energy \n",
    "                                        if len(struct_energy[0])==i] for i in numatoms_list_mysplit_test]\n",
    "\n",
    "data_mysplit_test_struct_categorized_forces = [[struct_energy[2] for struct_energy in data_mysplit_test_structure_energy \n",
    "                                        if len(struct_energy[0])==i] for i in numatoms_list_mysplit_test]"
   ]
  },
  {
   "cell_type": "code",
   "execution_count": null,
   "metadata": {
    "scrolled": true
   },
   "outputs": [],
   "source": [
    "[len(i) for i in data_mysplit_test_struct_categorized]"
   ]
  },
  {
   "cell_type": "code",
   "execution_count": null,
   "metadata": {
    "scrolled": true
   },
   "outputs": [],
   "source": [
    "structs = [ j for i in data_mysplit_test_struct_categorized for j in i ]"
   ]
  },
  {
   "cell_type": "code",
   "execution_count": null,
   "metadata": {},
   "outputs": [],
   "source": [
    "structs_neigh = [ neigh[1] for j in structs for atom in j.get_all_neighbors(5) for neigh in atom]"
   ]
  },
  {
   "cell_type": "code",
   "execution_count": null,
   "metadata": {},
   "outputs": [],
   "source": [
    "with open('processed/'+element+'/train/categorized_structs.pickle', 'wb') as handle:\n",
    "    pickle.dump(data_train_struct_categorized, handle, protocol=pickle.HIGHEST_PROTOCOL)"
   ]
  },
  {
   "cell_type": "code",
   "execution_count": null,
   "metadata": {},
   "outputs": [],
   "source": [
    "with open('processed/'+element+'/test2/categorized_structs.pickle', 'wb') as handle:\n",
    "    pickle.dump(data_test_struct_categorized, handle, protocol=pickle.HIGHEST_PROTOCOL)"
   ]
  },
  {
   "cell_type": "code",
   "execution_count": null,
   "metadata": {},
   "outputs": [],
   "source": [
    "#this is to generate my own split\n",
    "\n",
    "with open('processed/'+elements+'/train/categorized_structs.pickle', 'wb') as handle:\n",
    "    pickle.dump(data_mysplit_train_struct_categorized, handle, protocol=pickle.HIGHEST_PROTOCOL)"
   ]
  },
  {
   "cell_type": "code",
   "execution_count": null,
   "metadata": {},
   "outputs": [],
   "source": [
    "#this is to generate my own split\n",
    "\n",
    "with open('processed/'+elements+'/test2/categorized_structs.pickle', 'wb') as handle:\n",
    "    pickle.dump(data_mysplit_test_struct_categorized, handle, protocol=pickle.HIGHEST_PROTOCOL)"
   ]
  },
  {
   "cell_type": "code",
   "execution_count": null,
   "metadata": {},
   "outputs": [],
   "source": [
    "with open('processed/'+element+'/train/categorized_energy.pickle', 'wb') as handle:\n",
    "    pickle.dump(data_train_struct_categorized_energy, handle, protocol=pickle.HIGHEST_PROTOCOL)"
   ]
  },
  {
   "cell_type": "code",
   "execution_count": null,
   "metadata": {},
   "outputs": [],
   "source": [
    "#for generating test set\n",
    "\n",
    "with open('processed/'+element+'/test/categorized_energy.pickle', 'wb') as handle:\n",
    "    pickle.dump(data_test_struct_categorized_energy, handle, protocol=pickle.HIGHEST_PROTOCOL)"
   ]
  },
  {
   "cell_type": "code",
   "execution_count": null,
   "metadata": {},
   "outputs": [],
   "source": [
    "#this is to generate my own split\n",
    "\n",
    "with open('processed/'+elements+'/train/categorized_energy.pickle', 'wb') as handle:\n",
    "    pickle.dump(data_mysplit_train_struct_categorized_energy, handle, protocol=pickle.HIGHEST_PROTOCOL)"
   ]
  },
  {
   "cell_type": "code",
   "execution_count": null,
   "metadata": {},
   "outputs": [],
   "source": [
    "#this is to generate my own split\n",
    "\n",
    "with open('processed/'+elements+'/test2/categorized_energy.pickle', 'wb') as handle:\n",
    "    pickle.dump(data_mysplit_test_struct_categorized_energy, handle, protocol=pickle.HIGHEST_PROTOCOL)"
   ]
  },
  {
   "cell_type": "code",
   "execution_count": null,
   "metadata": {},
   "outputs": [],
   "source": [
    "with open('processed/'+element+'/train/categorized_forces.pickle', 'wb') as handle:\n",
    "    pickle.dump(data_train_struct_categorized_forces, handle, protocol=pickle.HIGHEST_PROTOCOL)"
   ]
  },
  {
   "cell_type": "code",
   "execution_count": null,
   "metadata": {},
   "outputs": [],
   "source": [
    "#for generating test set\n",
    "\n",
    "with open('processed/'+element+'/test/categorized_forces.pickle', 'wb') as handle:\n",
    "    pickle.dump(data_test_struct_categorized_forces, handle, protocol=pickle.HIGHEST_PROTOCOL)"
   ]
  },
  {
   "cell_type": "code",
   "execution_count": null,
   "metadata": {},
   "outputs": [],
   "source": [
    "#this is to generate my own split\n",
    "\n",
    "with open('processed/'+elements+'/train/categorized_forces.pickle', 'wb') as handle:\n",
    "    pickle.dump(data_mysplit_train_struct_categorized_forces, handle, protocol=pickle.HIGHEST_PROTOCOL)"
   ]
  },
  {
   "cell_type": "code",
   "execution_count": null,
   "metadata": {},
   "outputs": [],
   "source": [
    "#this is to generate my own split\n",
    "\n",
    "with open('processed/'+elements+'/test2/categorized_forces.pickle', 'wb') as handle:\n",
    "    pickle.dump(data_mysplit_test_struct_categorized_forces, handle, protocol=pickle.HIGHEST_PROTOCOL)"
   ]
  },
  {
   "cell_type": "code",
   "execution_count": null,
   "metadata": {},
   "outputs": [],
   "source": [
    "categorized_train_num_structs = [len(i) for i in data_train_struct_categorized]"
   ]
  },
  {
   "cell_type": "code",
   "execution_count": null,
   "metadata": {},
   "outputs": [],
   "source": [
    "#for generating test set\n",
    "\n",
    "categorized_test_num_structs = [len(i) for i in data_test_struct_categorized]"
   ]
  }
 ],
 "metadata": {
  "kernelspec": {
   "display_name": "Python 3.6",
   "language": "python",
   "name": "python3.6"
  },
  "language_info": {
   "codemirror_mode": {
    "name": "ipython",
    "version": 3
   },
   "file_extension": ".py",
   "mimetype": "text/x-python",
   "name": "python",
   "nbconvert_exporter": "python",
   "pygments_lexer": "ipython3",
   "version": "3.6.8"
  }
 },
 "nbformat": 4,
 "nbformat_minor": 2
}
